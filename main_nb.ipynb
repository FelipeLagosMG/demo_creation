{
 "cells": [
  {
   "cell_type": "code",
   "execution_count": 62,
   "metadata": {},
   "outputs": [],
   "source": [
    "from hubspot import HubSpot\n",
    "from pprint import pprint\n",
    "from hubspot.crm.contacts import ApiException, SimplePublicObjectInput\n",
    "import pandas as pd\n",
    "import numpy as np\n",
    "#import MetaTrader5\n",
    "#import file\n",
    "import json\n",
    "import urllib3\n",
    "import logging\n",
    "import secrets\n",
    "import string\n",
    "import os\n",
    "import io\n",
    "import time\n",
    "#os.chdir('hubspot_mt5_api')\n",
    "\n",
    "\n",
    "from Classes.MT5RestAPI import MT5RestAPI"
   ]
  },
  {
   "cell_type": "code",
   "execution_count": 63,
   "metadata": {},
   "outputs": [],
   "source": [
    "alphabet = string.ascii_letters + string.digits\n",
    "\n",
    "login = 1111\n",
    "password = \"api_pass_MG\"\n",
    "server = \"trading.mercadosg.com\"\n",
    "port = 443\n",
    "rest_api = MT5RestAPI(login, password, server, port)"
   ]
  },
  {
   "cell_type": "code",
   "execution_count": 64,
   "metadata": {},
   "outputs": [],
   "source": [
    "def connect_mt5():\n",
    "    # --\n",
    "    urllib3.disable_warnings(urllib3.exceptions.InsecureRequestWarning)\n",
    "    format_msg = \"%(asctime)s: %(message)s\"\n",
    "    logging.basicConfig(format=format_msg, level=logging.INFO, datefmt=\"%H:%M:%S\")\n",
    "    logging.info(\"Main    : start\")\n",
    "    # --\n",
    "    cli_rand_answer = rest_api.auth_2_get()\n",
    "\n",
    "def create_demo_acc(Login, master_pass, inves_pass, name, email):\n",
    "    response = rest_api.create_demo(Login, master_pass, inves_pass, name, email)\n",
    "    return response\n",
    "\n",
    "def get_all_clients():\n",
    "    response = rest_api.get_all_logins()\n",
    "    df_clients = pd.read_csv(io.StringIO(response.text))\n",
    "    df_clients.rename(columns={'{ \"retcode\" : \"0 Done\"':'Login',' \"answer\" : [':'Something'}, inplace=True)\n",
    "    df_clients.Login = pd.to_numeric(df_clients['Login'], errors='coerce')\n",
    "    df_clients.sort_values('Login',ascending=False,inplace=True,ignore_index=True)\n",
    "    return df_clients\n",
    "\n",
    "def deposit_mt5(login, type_par, balance, comment):\n",
    "    response = rest_api.deposit(login=login,type_par=type_par,balance=balance,comment=comment)\n",
    "    return response"
   ]
  },
  {
   "cell_type": "code",
   "execution_count": 65,
   "metadata": {},
   "outputs": [],
   "source": [
    "api_client = HubSpot(access_token='pat-na1-e71ad220-f5b2-4fe9-b388-d5ca536488aa')"
   ]
  },
  {
   "cell_type": "code",
   "execution_count": 67,
   "metadata": {},
   "outputs": [
    {
     "name": "stderr",
     "output_type": "stream",
     "text": [
      "13:58:16: Main    : start\n"
     ]
    },
    {
     "name": "stdout",
     "output_type": "stream",
     "text": [
      "auth_start\n",
      "https://trading.mercadosg.com:443/auth_start?version=2980&agent=WebManager&login=1111&type=manager\n",
      "{'retcode': '0 Done', 'version_access': '3802', 'srv_rand': '2c0eb2dc5187d21cece761a3fc017872'}\n",
      " \n",
      "auth_answer\n",
      "srv_rand = 2c0eb2dc5187d21cece761a3fc017872\n",
      "#1. pass in byte array: api_pass_MG\n",
      "[25, 254, 201, 210, 51, 100, 6, 133, 175, 226, 132, 201, 190, 103, 129, 62]\n",
      "#2. WebAPI byte array:\n",
      "[87, 101, 98, 65, 80, 73]\n",
      "#3. byte array of password + WebAPI:\n",
      "[25, 254, 201, 210, 51, 100, 6, 133, 175, 226, 132, 201, 190, 103, 129, 62, 87, 101, 98, 65, 80, 73]\n",
      "#4. MD5 of password + WebAPI byte array:\n",
      "[41, 119, 165, 168, 91, 107, 148, 77, 68, 36, 165, 155, 177, 52, 38, 117]\n",
      "#5. byte array of SRV_RAND:\n",
      "[44, 14, 178, 220, 81, 135, 210, 28, 236, 231, 97, 163, 252, 1, 120, 114]\n",
      "#6. byte array of steps1-4 + SRV_RAND:\n",
      "[41, 119, 165, 168, 91, 107, 148, 77, 68, 36, 165, 155, 177, 52, 38, 117, 44, 14, 178, 220, 81, 135, 210, 28, 236, 231, 97, 163, 252, 1, 120, 114]\n",
      "#7. final hash:\n",
      "[220, 249, 62, 236, 25, 235, 10, 154, 193, 36, 20, 112, 68, 155, 145, 158]\n",
      "srv_rand_answer=dcf93eec19eb0a9ac1241470449b919e\n",
      "https://trading.mercadosg.com:443/auth_answer?srv_rand_answer=dcf93eec19eb0a9ac1241470449b919e&cli_rand=de7514a9ef75f4354b21f0d2f5a0f5ab\n",
      "{ \"retcode\" : \"0 Done\", \"cli_rand_answer\" : \"449c029be581e60275718be96501ddfc\" }\n",
      "\n",
      "https://trading.mercadosg.com:443/api/user/add?Login=0&pass_main=Dfu45QJDJK&pass_investor=f46xRPubez&group=demo\\demo-mg&name=Test2 Main&email=test2@mail.com\n",
      "{ \"retcode\" : \"0 Done\", \"answer\" : {\n",
      "\"Login\" : \"19740\",\n",
      "\"Group\" : \"demo\\\\demo-mg\",\n",
      "\"CertSerialNumber\" : \"0\",\n",
      "\"Rights\" : \"2403\",\n",
      "\"MQID\" : \"0\",\n",
      "\"Registration\" : \"1693403896\",\n",
      "\"LastAccess\" : \"1693403896\",\n",
      "\"LastPassChange\" : \"1693403896\",\n",
      "\"LastIP\" : \"\",\n",
      "\"Name\" : \"Test2 Main\",\n",
      "\"FirstName\" : \"Test2 Main\",\n",
      "\"LastName\" : \"\",\n",
      "\"MiddleName\" : \"\",\n",
      "\"Company\" : \"\",\n",
      "\"Account\" : \"\",\n",
      "\"Country\" : \"\",\n",
      "\"Language\" : \"0\",\n",
      "\"ClientID\" : \"0\",\n",
      "\"City\" : \"\",\n",
      "\"State\" : \"\",\n",
      "\"ZipCode\" : \"\",\n",
      "\"Address\" : \"\",\n",
      "\"Phone\" : \"\",\n",
      "\"Email\" : \"test2@mail.com\",\n",
      "\"ID\" : \"\",\n",
      "\"Status\" : \"\",\n",
      "\"Comment\" : \"\",\n",
      "\"Color\" : \"4278190080\",\n",
      "\"PhonePassword\" : \"\",\n",
      "\"Leverage\" : \"100\",\n",
      "\"Agent\" : \"0\",\n",
      "\"LimitPositions\" : \"0\",\n",
      "\"LimitOrders\" : \"0\",\n",
      "\"CurrencyDigits\" : \"2\",\n",
      "\"Balance\" : \"0.00\",\n",
      "\"Credit\" : \"0.00\",\n",
      "\"InterestRate\" : \"0.00\",\n",
      "\"CommissionDaily\" : \"0.00\",\n",
      "\"CommissionMonthly\" : \"0.00\",\n",
      "\"CommissionAgentDaily\" : \"0.00\",\n",
      "\"CommissionAgentMonthly\" : \"0.00\",\n",
      "\"BalancePrevDay\" : \"0.00\",\n",
      "\"BalancePrevMonth\" : \"0.00\",\n",
      "\"EquityPrevDay\" : \"0.00\",\n",
      "\"EquityPrevMonth\" : \"0.00\",\n",
      "\"TradeAccounts\" : \"\",\n",
      "\"ApiData\" : [\n",
      "{\n",
      "\"AppID\" : \"0\",\n",
      "\"ID\" : \"0\",\n",
      "\"ValueInt\" : \"0\",\n",
      "\"ValueUInt\" : \"0\",\n",
      "\"ValueDouble\" : \"0.00000000\"},\n",
      "{\n",
      "\"AppID\" : \"0\",\n",
      "\"ID\" : \"0\",\n",
      "\"ValueInt\" : \"0\",\n",
      "\"ValueUInt\" : \"0\",\n",
      "\"ValueDouble\" : \"0.00000000\"},\n",
      "{\n",
      "\"AppID\" : \"0\",\n",
      "\"ID\" : \"0\",\n",
      "\"ValueInt\" : \"0\",\n",
      "\"ValueUInt\" : \"0\",\n",
      "\"ValueDouble\" : \"0.00000000\"},\n",
      "{\n",
      "\"AppID\" : \"0\",\n",
      "\"ID\" : \"0\",\n",
      "\"ValueInt\" : \"0\",\n",
      "\"ValueUInt\" : \"0\",\n",
      "\"ValueDouble\" : \"0.00000000\"},\n",
      "{\n",
      "\"AppID\" : \"0\",\n",
      "\"ID\" : \"0\",\n",
      "\"ValueInt\" : \"0\",\n",
      "\"ValueUInt\" : \"0\",\n",
      "\"ValueDouble\" : \"0.00000000\"},\n",
      "{\n",
      "\"AppID\" : \"0\",\n",
      "\"ID\" : \"0\",\n",
      "\"ValueInt\" : \"0\",\n",
      "\"ValueUInt\" : \"0\",\n",
      "\"ValueDouble\" : \"0.00000000\"},\n",
      "{\n",
      "\"AppID\" : \"0\",\n",
      "\"ID\" : \"0\",\n",
      "\"ValueInt\" : \"0\",\n",
      "\"ValueUInt\" : \"0\",\n",
      "\"ValueDouble\" : \"0.00000000\"},\n",
      "{\n",
      "\"AppID\" : \"0\",\n",
      "\"ID\" : \"0\",\n",
      "\"ValueInt\" : \"0\",\n",
      "\"ValueUInt\" : \"0\",\n",
      "\"ValueDouble\" : \"0.00000000\"},\n",
      "{\n",
      "\"AppID\" : \"0\",\n",
      "\"ID\" : \"0\",\n",
      "\"ValueInt\" : \"0\",\n",
      "\"ValueUInt\" : \"0\",\n",
      "\"ValueDouble\" : \"0.00000000\"},\n",
      "{\n",
      "\"AppID\" : \"0\",\n",
      "\"ID\" : \"0\",\n",
      "\"ValueInt\" : \"0\",\n",
      "\"ValueUInt\" : \"0\",\n",
      "\"ValueDouble\" : \"0.00000000\"},\n",
      "{\n",
      "\"AppID\" : \"0\",\n",
      "\"ID\" : \"0\",\n",
      "\"ValueInt\" : \"0\",\n",
      "\"ValueUInt\" : \"0\",\n",
      "\"ValueDouble\" : \"0.00000000\"},\n",
      "{\n",
      "\"AppID\" : \"0\",\n",
      "\"ID\" : \"0\",\n",
      "\"ValueInt\" : \"0\",\n",
      "\"ValueUInt\" : \"0\",\n",
      "\"ValueDouble\" : \"0.00000000\"},\n",
      "{\n",
      "\"AppID\" : \"0\",\n",
      "\"ID\" : \"0\",\n",
      "\"ValueInt\" : \"0\",\n",
      "\"ValueUInt\" : \"0\",\n",
      "\"ValueDouble\" : \"0.00000000\"},\n",
      "{\n",
      "\"AppID\" : \"0\",\n",
      "\"ID\" : \"0\",\n",
      "\"ValueInt\" : \"0\",\n",
      "\"ValueUInt\" : \"0\",\n",
      "\"ValueDouble\" : \"0.00000000\"},\n",
      "{\n",
      "\"AppID\" : \"0\",\n",
      "\"ID\" : \"0\",\n",
      "\"ValueInt\" : \"0\",\n",
      "\"ValueUInt\" : \"0\",\n",
      "\"ValueDouble\" : \"0.00000000\"},\n",
      "{\n",
      "\"AppID\" : \"0\",\n",
      "\"ID\" : \"0\",\n",
      "\"ValueInt\" : \"0\",\n",
      "\"ValueUInt\" : \"0\",\n",
      "\"ValueDouble\" : \"0.00000000\"}\n",
      "],\n",
      "\"LeadCampaign\" : \"\",\n",
      "\"LeadSource\" : \"\"\n",
      "}\n",
      " }\n",
      "\n",
      "https://trading.mercadosg.com:443/api/trade/balance?login=19740&type=2&balance=1000000&comment=Demo\n",
      "{ \"retcode\" : \"0 Done\", \"answer\" : {\"ticket\":\"913711\"} }\n",
      "\n",
      "{'archived': False,\n",
      " 'archived_at': None,\n",
      " 'created_at': datetime.datetime(2023, 8, 30, 17, 49, 35, 981000, tzinfo=tzutc()),\n",
      " 'id': '3935601',\n",
      " 'properties': {'createdate': '2023-08-30T17:49:35.981Z',\n",
      "                'hs_all_accessible_team_ids': '255170',\n",
      "                'hs_all_owner_ids': '117500798',\n",
      "                'hs_all_team_ids': '255170',\n",
      "                'hs_count_is_unworked': '1',\n",
      "                'hs_count_is_worked': '0',\n",
      "                'hs_created_by_user_id': '27098925',\n",
      "                'hs_is_contact': 'true',\n",
      "                'hs_is_unworked': 'true',\n",
      "                'hs_object_id': '3935601',\n",
      "                'hs_pipeline': 'contacts-lifecycle-pipeline',\n",
      "                'hs_updated_by_user_id': '27098925',\n",
      "                'hs_user_ids_of_all_owners': '27098925',\n",
      "                'hubspot_owner_assigneddate': '2023-08-30T17:49:35.981Z',\n",
      "                'hubspot_owner_id': '117500798',\n",
      "                'hubspot_team_id': '255170',\n",
      "                'id_lead_mt5_demo': '19740',\n",
      "                'lastmodifieddate': '2023-08-30T17:58:17.335Z',\n",
      "                'lifecyclestage': 'lead',\n",
      "                'primera_contrasena_mt5_demo': 'Dfu45QJDJK'},\n",
      " 'properties_with_history': None,\n",
      " 'updated_at': datetime.datetime(2023, 8, 30, 17, 58, 17, 335000, tzinfo=tzutc())}\n",
      "No new accounts on HS\n",
      "No new accounts on HS\n",
      "No new accounts on HS\n"
     ]
    },
    {
     "ename": "KeyboardInterrupt",
     "evalue": "",
     "output_type": "error",
     "traceback": [
      "\u001b[1;31m---------------------------------------------------------------------------\u001b[0m",
      "\u001b[1;31mKeyboardInterrupt\u001b[0m                         Traceback (most recent call last)",
      "\u001b[1;32mc:\\Felipe\\MG\\Codes\\hubspot_mt5_api\\main_nb.ipynb Cell 5\u001b[0m in \u001b[0;36m<cell line: 1>\u001b[1;34m()\u001b[0m\n\u001b[0;32m     <a href='vscode-notebook-cell:/c%3A/Felipe/MG/Codes/hubspot_mt5_api/main_nb.ipynb#W4sZmlsZQ%3D%3D?line=45'>46</a>\u001b[0m \u001b[39mexcept\u001b[39;00m ApiException \u001b[39mas\u001b[39;00m e:\n\u001b[0;32m     <a href='vscode-notebook-cell:/c%3A/Felipe/MG/Codes/hubspot_mt5_api/main_nb.ipynb#W4sZmlsZQ%3D%3D?line=46'>47</a>\u001b[0m     \u001b[39mprint\u001b[39m(\u001b[39m\"\u001b[39m\u001b[39mException when calling basic_api->get_page: \u001b[39m\u001b[39m%s\u001b[39;00m\u001b[39m\\n\u001b[39;00m\u001b[39m\"\u001b[39m \u001b[39m%\u001b[39m e)\n\u001b[1;32m---> <a href='vscode-notebook-cell:/c%3A/Felipe/MG/Codes/hubspot_mt5_api/main_nb.ipynb#W4sZmlsZQ%3D%3D?line=47'>48</a>\u001b[0m time\u001b[39m.\u001b[39;49msleep(\u001b[39m5\u001b[39;49m)\n",
      "\u001b[1;31mKeyboardInterrupt\u001b[0m: "
     ]
    }
   ],
   "source": [
    "while True:\n",
    "    try:\n",
    "        read_last_id=np.loadtxt('last_id_n.txt')\n",
    "        api_response = api_client.crm.contacts.basic_api.get_page(limit = 100, after=int(read_last_id), archived=False)\n",
    "        api_response_dict = api_response.to_dict()['results']\n",
    "        df = pd.DataFrame.from_dict(data=api_response_dict)\n",
    "        #df = df.explode('properties')\n",
    "        #df.reset_index(drop=True, inplace=True)\n",
    "\n",
    "        last_id = (df['id'].iloc[-1])\n",
    "\n",
    "        if (df.shape[0]>1):\n",
    "            connect_mt5()\n",
    "            for index,row in df.iterrows():\n",
    "                if(index>0):\n",
    "                    name = str(row.properties['firstname'])+\" \"+str(row.properties['lastname'])\n",
    "                    email = str(row.properties['email'])\n",
    "                    password_master = ''.join(secrets.choice(alphabet) for i in range(10))\n",
    "                    password_investor = ''.join(secrets.choice(alphabet) for i in range(10))\n",
    "                    #clients=get_all_clients()\n",
    "                    #last_account = clients.iloc[0,0]\n",
    "                    #Login=int(last_account+1)\n",
    "                    Login=0\n",
    "                    mt5_response = create_demo_acc(Login,password_master, password_investor, name, email)\n",
    "                    #print(\"Last registered account is: \"+str(last_account))\n",
    "                    #print(\"Next login for demo would be: \"+str(last_account+1))\n",
    "                    mt5_json = json.loads(mt5_response)\n",
    "                    demo_login = int(mt5_json['answer']['Login'])\n",
    "                    deposit_answer = deposit_mt5(demo_login, 2, 1000000, 'Demo')\n",
    "                    ### Update contact on HubSpot ###\n",
    "                    properties = {\n",
    "                        'id_lead_mt5_demo' : str(demo_login),\n",
    "                        'primera_contrasena_mt5_demo' : password_master\n",
    "                    }\n",
    "                    simple_public_object_input = SimplePublicObjectInput(properties=properties)\n",
    "                    response_2 = api_client.crm.contacts.basic_api.update(row.id, simple_public_object_input=simple_public_object_input)\n",
    "                    pprint(response_2)\n",
    "            file = open(\"last_id_n.txt\", \"w\")\n",
    "            file.write(last_id)\n",
    "            file.close()\n",
    "\n",
    "        else:\n",
    "            print(\"No new accounts on HS\")\n",
    "\n",
    "\n",
    "    except ApiException as e:\n",
    "        print(\"Exception when calling basic_api->get_page: %s\\n\" % e)\n",
    "    time.sleep(5)"
   ]
  },
  {
   "cell_type": "code",
   "execution_count": 50,
   "metadata": {},
   "outputs": [
    {
     "ename": "TypeError",
     "evalue": "only size-1 arrays can be converted to Python scalars",
     "output_type": "error",
     "traceback": [
      "\u001b[1;31m---------------------------------------------------------------------------\u001b[0m",
      "\u001b[1;31mTypeError\u001b[0m                                 Traceback (most recent call last)",
      "\u001b[1;32mc:\\Felipe\\MG\\Codes\\hubspot_mt5_api\\main_nb.ipynb Cell 6\u001b[0m in \u001b[0;36m<cell line: 1>\u001b[1;34m()\u001b[0m\n\u001b[1;32m----> <a href='vscode-notebook-cell:/c%3A/Felipe/MG/Codes/hubspot_mt5_api/main_nb.ipynb#W5sZmlsZQ%3D%3D?line=0'>1</a>\u001b[0m \u001b[39mint\u001b[39;49m(read_last_id)\n",
      "\u001b[1;31mTypeError\u001b[0m: only size-1 arrays can be converted to Python scalars"
     ]
    }
   ],
   "source": [
    "int(read_last_id)"
   ]
  },
  {
   "cell_type": "code",
   "execution_count": 21,
   "metadata": {},
   "outputs": [],
   "source": [
    "read_last_id_n=np.loadtxt('last_id_n.txt')"
   ]
  },
  {
   "cell_type": "code",
   "execution_count": 22,
   "metadata": {},
   "outputs": [
    {
     "data": {
      "text/plain": [
       "3932701"
      ]
     },
     "execution_count": 22,
     "metadata": {},
     "output_type": "execute_result"
    }
   ],
   "source": [
    "int(read_last_id_n)"
   ]
  },
  {
   "cell_type": "code",
   "execution_count": 40,
   "metadata": {},
   "outputs": [],
   "source": [
    "mt5_json = json.loads(mt5_response)"
   ]
  },
  {
   "cell_type": "code",
   "execution_count": 55,
   "metadata": {},
   "outputs": [
    {
     "name": "stdout",
     "output_type": "stream",
     "text": [
      "{'createdate': '2023-08-30T13:56:18.126Z', 'email': 'test2@mail.com', 'firstname': 'Test3', 'hs_object_id': '3932951', 'lastmodifieddate': '2023-08-30T13:59:27.459Z', 'lastname': 'Test3'}\n"
     ]
    }
   ],
   "source": [
    "print(df['properties'][0])"
   ]
  },
  {
   "cell_type": "code",
   "execution_count": 44,
   "metadata": {},
   "outputs": [
    {
     "data": {
      "text/plain": [
       "19719"
      ]
     },
     "execution_count": 44,
     "metadata": {},
     "output_type": "execute_result"
    }
   ],
   "source": [
    "int(mt5_json['answer']['Login'])"
   ]
  },
  {
   "cell_type": "code",
   "execution_count": null,
   "metadata": {},
   "outputs": [],
   "source": [
    "mt5_response[1]['']"
   ]
  }
 ],
 "metadata": {
  "kernelspec": {
   "display_name": "Python 3",
   "language": "python",
   "name": "python3"
  },
  "language_info": {
   "codemirror_mode": {
    "name": "ipython",
    "version": 3
   },
   "file_extension": ".py",
   "mimetype": "text/x-python",
   "name": "python",
   "nbconvert_exporter": "python",
   "pygments_lexer": "ipython3",
   "version": "3.10.6"
  },
  "orig_nbformat": 4
 },
 "nbformat": 4,
 "nbformat_minor": 2
}
